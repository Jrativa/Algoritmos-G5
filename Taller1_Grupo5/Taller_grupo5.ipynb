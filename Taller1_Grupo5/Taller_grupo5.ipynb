{
  "nbformat": 4,
  "nbformat_minor": 0,
  "metadata": {
    "colab": {
      "provenance": [],
      "collapsed_sections": []
    },
    "kernelspec": {
      "name": "python3",
      "display_name": "Python 3"
    },
    "language_info": {
      "name": "python"
    }
  },
  "cells": [
    {
      "cell_type": "code",
      "source": [
        "import time\n",
        "import math\n",
        "import matplotlib.pyplot as plt\n",
        "import numpy as np\n",
        "import statistics"
      ],
      "metadata": {
        "id": "EQiGJTXOBp9v"
      },
      "execution_count": null,
      "outputs": []
    },
    {
      "cell_type": "code",
      "execution_count": null,
      "metadata": {
        "id": "1trNiMRrrNn-"
      },
      "outputs": [],
      "source": [
        "def BiseccionBolzano(function, a, b, epsilon=0.000001):\n",
        "   while abs(b-a)>epsilon: \n",
        "       c=(a+b)/2      #Calculamos el punto medio del intervalo, O(1)\n",
        "       fa=function(a) #Calculamos la función en el púnto inicial del intervalo, el punto final y el punto medio, O(1)\n",
        "       fb=function(b) #O(1)\n",
        "       fc=function(c) #O(1)\n",
        "       if (fa*fc>0):  #f(a) y f(c) son del mismo signo entonces descartamos la mitad del intervalo desde a hasta c, O(1)\n",
        "           a=c        #O(1)\n",
        "       else:          #f(b) y f(c) son de diferente entonces descartamos la mitad del intervalo desde b hasta c, O(1)\n",
        "           b=c        #O(1)\n",
        "   return float(round(c,2))"
      ]
    },
    {
      "cell_type": "code",
      "source": [
        "#Despues de variar los valores tenemos que garantizar la existencia de una raiz en el intervalo dado\n",
        "def BiseccionBolzano2(function, a, b, epsilon=0.000001):\n",
        "  if (function(a)*function(b)<=0):\n",
        "    while abs(b-a)>epsilon: \n",
        "        c=(a+b)/2      #Calculamos el punto medio del intervalo, O(1)\n",
        "        fa=function(a) #Calculamos la función en el púnto inicial del intervalo, el punto final y el punto medio, O(1)\n",
        "        fb=function(b) #O(1)\n",
        "        fc=function(c) #O(1)\n",
        "        if (fa*fc>0):  #f(a) y f(c) son del mismo signo entonces descartamos la mitad del intervalo desde a hasta c, O(1)\n",
        "            a=c        #O(1)\n",
        "        else:          #f(b) y f(c) son de diferente entonces descartamos la mitad del intervalo desde b hasta c, O(1)\n",
        "            b=c        #O(1)\n",
        "    return print(\"La funcion tiene una raiz en la abcisa x =\", float(round(c,2)))\n",
        "  else: \n",
        "    print(\"No se garantiza la existencia de una raiz en el intervalo dado porque los signos de f(a) y f(b) son iguales.\")"
      ],
      "metadata": {
        "id": "CzkIKeiqPNDT"
      },
      "execution_count": 55,
      "outputs": []
    },
    {
      "cell_type": "markdown",
      "source": [
        "\n",
        "\n",
        "Calculo de complejidad teorica en tiempo: \n",
        "\n",
        "![Latex.png](data:image/png;base64,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)\n",
        "\n",
        "Donde k es el numero de iteraciones que emplea el metodo de bolzano, entonces concluimos que la complejidad del algoritmo es O(log(n))"
      ],
      "metadata": {
        "id": "jZ7-Helq5GJ_"
      }
    },
    {
      "cell_type": "code",
      "source": [
        "#Ejemplo\n",
        "def funcion(x):\n",
        "  return -x**4 + 30*(x**3) + 15*(x**2) + 34*x + 540  "
      ],
      "metadata": {
        "id": "BA-4XYeCl5eN"
      },
      "execution_count": null,
      "outputs": []
    },
    {
      "cell_type": "code",
      "source": [
        "print(\"La funcion tiene una raiz en la abcisa x =\", BiseccionBolzano(funcion,0,1000))"
      ],
      "metadata": {
        "colab": {
          "base_uri": "https://localhost:8080/"
        },
        "id": "aYjYVo_7l-56",
        "outputId": "1b7ef1b0-285a-4db3-8465-27f0fd088fa0"
      },
      "execution_count": 56,
      "outputs": [
        {
          "output_type": "stream",
          "name": "stdout",
          "text": [
            "La funcion tiene una raiz en la abcisa x = 30.55\n"
          ]
        }
      ]
    },
    {
      "cell_type": "code",
      "source": [
        "BiseccionBolzano2(funcion,0,1000)"
      ],
      "metadata": {
        "colab": {
          "base_uri": "https://localhost:8080/"
        },
        "id": "rHfHcHhtQPjm",
        "outputId": "eb843225-dbe7-402c-8102-c3c52766b1b9"
      },
      "execution_count": 57,
      "outputs": [
        {
          "output_type": "stream",
          "name": "stdout",
          "text": [
            "La funcion tiene una raiz en la abcisa x = 30.55\n"
          ]
        }
      ]
    },
    {
      "cell_type": "code",
      "source": [
        "start=time.process_time()\n",
        "BiseccionBolzano(funcion,0,1000)\n",
        "end=time.process_time()\n",
        "tiempo =(end-start)\n",
        "print(\"El tiempo de ejecución es de:\", tiempo)"
      ],
      "metadata": {
        "colab": {
          "base_uri": "https://localhost:8080/"
        },
        "id": "j8x9AbD732er",
        "outputId": "bb5e4ebc-f476-468e-e942-150986050db7"
      },
      "execution_count": null,
      "outputs": [
        {
          "output_type": "stream",
          "name": "stdout",
          "text": [
            "El tiempo de ejecución es de: 0.0002538399999139074\n"
          ]
        }
      ]
    },
    {
      "cell_type": "code",
      "source": [
        "print(\"La funcion tiene una raiz en la abcisa x =\", BiseccionBolzano(funcion,0,1000))"
      ],
      "metadata": {
        "colab": {
          "base_uri": "https://localhost:8080/"
        },
        "id": "_tH_--QGL5WP",
        "outputId": "6c898c01-6b05-4f4a-f448-8ef6dad1a54a"
      },
      "execution_count": null,
      "outputs": [
        {
          "output_type": "stream",
          "name": "stdout",
          "text": [
            "La funcion tiene una raiz en la abcisa x = 1000.0\n"
          ]
        }
      ]
    },
    {
      "cell_type": "code",
      "source": [
        "x = []\n",
        "y = []\n",
        "l = []\n",
        "a=0\n",
        "\n",
        "for i in range(50):\n",
        "  x.append(a)\n",
        "  start=time.process_time()\n",
        "  BiseccionBolzano(funcion,0,1000)\n",
        "  end=time.process_time()\n",
        "  y.append(end-start)\n",
        "  a+=1\n",
        "\n",
        "print(x)\n",
        "print(y)\n",
        "\n",
        "var = statistics.mean(y)\n",
        "print(\"El promedio es:\")\n",
        "print(var)\n",
        "\n",
        "plt.plot(x,y)\n",
        "plt.show()\n"
      ],
      "metadata": {
        "colab": {
          "base_uri": "https://localhost:8080/",
          "height": 354
        },
        "id": "OMzkPck2GKVD",
        "outputId": "7ecc8139-848e-477a-fb80-e588da8aa029"
      },
      "execution_count": null,
      "outputs": [
        {
          "output_type": "stream",
          "name": "stdout",
          "text": [
            "[0, 1, 2, 3, 4, 5, 6, 7, 8, 9, 10, 11, 12, 13, 14, 15, 16, 17, 18, 19, 20, 21, 22, 23, 24, 25, 26, 27, 28, 29, 30, 31, 32, 33, 34, 35, 36, 37, 38, 39, 40, 41, 42, 43, 44, 45, 46, 47, 48, 49]\n",
            "[0.00015941800006658013, 0.00010725800007094222, 0.00010321400009161152, 0.00011774699987654458, 0.00011485699997137999, 0.00010580000002846646, 9.25009999264148e-05, 9.453999996367202e-05, 9.656399993218656e-05, 9.397500002705783e-05, 0.00017259299988836574, 0.0001531899999918096, 0.00010285500002282788, 0.00011905199994544091, 0.00010653100002855354, 0.00010842200003935432, 0.00011642300000858086, 0.00011238499996579776, 0.00010077399997499015, 0.00010938000013993587, 0.00010591999989628675, 8.959000001595996e-05, 0.00010050800005956262, 0.0001175580000563059, 9.413299994776025e-05, 0.00011343899996063556, 9.796200015443901e-05, 9.919200010699569e-05, 0.0001057299998592498, 0.0001056060000337311, 0.00010702500003390014, 0.00011180899991813931, 0.00011343599999236176, 9.959899989553378e-05, 0.00012513000001490582, 9.148399999503454e-05, 9.535699996376934e-05, 9.14950001060788e-05, 9.473099999013357e-05, 0.00010010400001192465, 9.673100021245773e-05, 9.822700008044194e-05, 8.949499988375464e-05, 9.029500006363378e-05, 0.00011673000017253798, 0.0001198869999825547, 9.888800013868604e-05, 9.231699982592545e-05, 9.313900000051945e-05, 9.198600014315161e-05]\n",
            "El promedio es:\n",
            "0.00010669964000953769\n"
          ]
        },
        {
          "output_type": "display_data",
          "data": {
            "text/plain": [
              "<Figure size 432x288 with 1 Axes>"
            ],
            "image/png": "[encoded data removed]"
          },
          "metadata": {
            "needs_background": "light"
          }
        }
      ]
    },
    {
      "cell_type": "code",
      "source": [
        "#Ejemplo de funcion que no tiene cero\n",
        "def funcion2(x):\n",
        "  return x**2 + 2"
      ],
      "metadata": {
        "id": "3YvKonoZMSJN"
      },
      "execution_count": 58,
      "outputs": []
    },
    {
      "cell_type": "code",
      "source": [
        "print(\"La funcion tiene una raiz en la abcisa x =\", BiseccionBolzano(funcion2,0,1000)) #Imprime valor incorrecto porque x**2 + 2 no tiene raices "
      ],
      "metadata": {
        "colab": {
          "base_uri": "https://localhost:8080/"
        },
        "id": "y7ddaUlSMYme",
        "outputId": "a8f5c24a-48c6-40b6-cc69-2b6619f7c93f"
      },
      "execution_count": 59,
      "outputs": [
        {
          "output_type": "stream",
          "name": "stdout",
          "text": [
            "La funcion tiene una raiz en la abcisa x = 1000.0\n"
          ]
        }
      ]
    },
    {
      "cell_type": "code",
      "source": [
        "BiseccionBolzano2(funcion2,0,1000)"
      ],
      "metadata": {
        "colab": {
          "base_uri": "https://localhost:8080/"
        },
        "id": "TzKbC_0vQas_",
        "outputId": "734815da-3bf5-4860-a5c1-14b211b7948a"
      },
      "execution_count": 60,
      "outputs": [
        {
          "output_type": "stream",
          "name": "stdout",
          "text": [
            "No se garantiza la existencia de una raiz en el intervalo dado porque los signos de f(a) y f(b) son iguales.\n"
          ]
        }
      ]
    },
    {
      "cell_type": "code",
      "source": [
        "def BiseccionBolzano_cero(function, a, b, epsilon=0.000001): #Arreglamos la funcion donde se debe tener en cuenta el caso de que no corta en x\n",
        "   while abs(b-a)>epsilon: #O(n)\n",
        "       c=(a+b)/2      #Calculamos el punto medio del intervalo, O(1)\n",
        "       fa=function(a) #Calculamos la función en el púnto inicial del intervalo, el punto final y el punto medio, O(1)\n",
        "       fb=function(b) #O(1)\n",
        "       fc=function(c) #O(1)\n",
        "       print(round(a,2))\n",
        "       if (fa*fc>0):  #f(a) y f(c) son del mismo signo entonces descartamos la mitad del intervalo desde a hasta c, O(1)\n",
        "           a=c        #O(1)\n",
        "       else:          #f(b) y f(c) son de diferente entonces descartamos la mitad del intervalo desde b hasta c, O(1)\n",
        "           b=c        #O(1)\n",
        "       if(round(c,2)==b):\n",
        "           return('No tiene') #\n",
        "   return float(round(c,2))"
      ],
      "metadata": {
        "id": "VnMn2MOKMT4S"
      },
      "execution_count": null,
      "outputs": []
    },
    {
      "cell_type": "code",
      "source": [
        "print(\"La funcion tiene una raiz en la abcisa x =\", BiseccionBolzano_cero(funcion,0,1000))"
      ],
      "metadata": {
        "colab": {
          "base_uri": "https://localhost:8080/"
        },
        "id": "il2O8mErMfR5",
        "outputId": "6fefa011-39b9-456c-de03-b871efd39771"
      },
      "execution_count": null,
      "outputs": [
        {
          "output_type": "stream",
          "name": "stdout",
          "text": [
            "0\n",
            "La funcion tiene una raiz en la abcisa x = No tiene\n"
          ]
        }
      ]
    }
  ]
}